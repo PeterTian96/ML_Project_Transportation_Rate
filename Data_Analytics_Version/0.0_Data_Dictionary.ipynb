{
  "nbformat": 4,
  "nbformat_minor": 0,
  "metadata": {
    "colab": {
      "provenance": []
    },
    "kernelspec": {
      "name": "python3",
      "display_name": "Python 3"
    },
    "language_info": {
      "name": "python"
    }
  },
  "cells": [
    {
      "cell_type": "markdown",
      "source": [
        "# 0.0 Data Dictionary"
      ],
      "metadata": {
        "id": "ILC_POzvs3M6"
      }
    },
    {
      "cell_type": "markdown",
      "source": [
        "The notbook is to explore the dataset and build a data dictionary for the raw data"
      ],
      "metadata": {
        "id": "DwuUhIhQtIUt"
      }
    },
    {
      "cell_type": "markdown",
      "source": [
        "## Import necessary packages"
      ],
      "metadata": {
        "id": "dCanjP43tQRy"
      }
    },
    {
      "cell_type": "code",
      "source": [
        "import pandas as pd\n",
        "import numpy as np\n",
        "import glob\n",
        "import os"
      ],
      "metadata": {
        "id": "-EMxxSTutJJI"
      },
      "execution_count": null,
      "outputs": []
    },
    {
      "cell_type": "markdown",
      "source": [
        "## Import data to colab"
      ],
      "metadata": {
        "id": "edi_lCiL1AsT"
      }
    },
    {
      "cell_type": "code",
      "source": [
        "from google.colab import files\n",
        "uploaded = files.upload()"
      ],
      "metadata": {
        "colab": {
          "base_uri": "https://localhost:8080/",
          "height": 59
        },
        "id": "dUwzf4ZRy8cP",
        "outputId": "b635f10f-3210-4261-c748-c746c907cbe2"
      },
      "execution_count": null,
      "outputs": [
        {
          "output_type": "display_data",
          "data": {
            "text/plain": [
              "<IPython.core.display.HTML object>"
            ],
            "text/html": [
              "\n",
              "     <input type=\"file\" id=\"files-c3515137-6e68-4a00-9b32-cdd29f65d9ab\" name=\"files[]\" multiple disabled\n",
              "        style=\"border:none\" />\n",
              "     <output id=\"result-c3515137-6e68-4a00-9b32-cdd29f65d9ab\">\n",
              "      Upload widget is only available when the cell has been executed in the\n",
              "      current browser session. Please rerun this cell to enable.\n",
              "      </output>\n",
              "      <script>// Copyright 2017 Google LLC\n",
              "//\n",
              "// Licensed under the Apache License, Version 2.0 (the \"License\");\n",
              "// you may not use this file except in compliance with the License.\n",
              "// You may obtain a copy of the License at\n",
              "//\n",
              "//      http://www.apache.org/licenses/LICENSE-2.0\n",
              "//\n",
              "// Unless required by applicable law or agreed to in writing, software\n",
              "// distributed under the License is distributed on an \"AS IS\" BASIS,\n",
              "// WITHOUT WARRANTIES OR CONDITIONS OF ANY KIND, either express or implied.\n",
              "// See the License for the specific language governing permissions and\n",
              "// limitations under the License.\n",
              "\n",
              "/**\n",
              " * @fileoverview Helpers for google.colab Python module.\n",
              " */\n",
              "(function(scope) {\n",
              "function span(text, styleAttributes = {}) {\n",
              "  const element = document.createElement('span');\n",
              "  element.textContent = text;\n",
              "  for (const key of Object.keys(styleAttributes)) {\n",
              "    element.style[key] = styleAttributes[key];\n",
              "  }\n",
              "  return element;\n",
              "}\n",
              "\n",
              "// Max number of bytes which will be uploaded at a time.\n",
              "const MAX_PAYLOAD_SIZE = 100 * 1024;\n",
              "\n",
              "function _uploadFiles(inputId, outputId) {\n",
              "  const steps = uploadFilesStep(inputId, outputId);\n",
              "  const outputElement = document.getElementById(outputId);\n",
              "  // Cache steps on the outputElement to make it available for the next call\n",
              "  // to uploadFilesContinue from Python.\n",
              "  outputElement.steps = steps;\n",
              "\n",
              "  return _uploadFilesContinue(outputId);\n",
              "}\n",
              "\n",
              "// This is roughly an async generator (not supported in the browser yet),\n",
              "// where there are multiple asynchronous steps and the Python side is going\n",
              "// to poll for completion of each step.\n",
              "// This uses a Promise to block the python side on completion of each step,\n",
              "// then passes the result of the previous step as the input to the next step.\n",
              "function _uploadFilesContinue(outputId) {\n",
              "  const outputElement = document.getElementById(outputId);\n",
              "  const steps = outputElement.steps;\n",
              "\n",
              "  const next = steps.next(outputElement.lastPromiseValue);\n",
              "  return Promise.resolve(next.value.promise).then((value) => {\n",
              "    // Cache the last promise value to make it available to the next\n",
              "    // step of the generator.\n",
              "    outputElement.lastPromiseValue = value;\n",
              "    return next.value.response;\n",
              "  });\n",
              "}\n",
              "\n",
              "/**\n",
              " * Generator function which is called between each async step of the upload\n",
              " * process.\n",
              " * @param {string} inputId Element ID of the input file picker element.\n",
              " * @param {string} outputId Element ID of the output display.\n",
              " * @return {!Iterable<!Object>} Iterable of next steps.\n",
              " */\n",
              "function* uploadFilesStep(inputId, outputId) {\n",
              "  const inputElement = document.getElementById(inputId);\n",
              "  inputElement.disabled = false;\n",
              "\n",
              "  const outputElement = document.getElementById(outputId);\n",
              "  outputElement.innerHTML = '';\n",
              "\n",
              "  const pickedPromise = new Promise((resolve) => {\n",
              "    inputElement.addEventListener('change', (e) => {\n",
              "      resolve(e.target.files);\n",
              "    });\n",
              "  });\n",
              "\n",
              "  const cancel = document.createElement('button');\n",
              "  inputElement.parentElement.appendChild(cancel);\n",
              "  cancel.textContent = 'Cancel upload';\n",
              "  const cancelPromise = new Promise((resolve) => {\n",
              "    cancel.onclick = () => {\n",
              "      resolve(null);\n",
              "    };\n",
              "  });\n",
              "\n",
              "  // Wait for the user to pick the files.\n",
              "  const files = yield {\n",
              "    promise: Promise.race([pickedPromise, cancelPromise]),\n",
              "    response: {\n",
              "      action: 'starting',\n",
              "    }\n",
              "  };\n",
              "\n",
              "  cancel.remove();\n",
              "\n",
              "  // Disable the input element since further picks are not allowed.\n",
              "  inputElement.disabled = true;\n",
              "\n",
              "  if (!files) {\n",
              "    return {\n",
              "      response: {\n",
              "        action: 'complete',\n",
              "      }\n",
              "    };\n",
              "  }\n",
              "\n",
              "  for (const file of files) {\n",
              "    const li = document.createElement('li');\n",
              "    li.append(span(file.name, {fontWeight: 'bold'}));\n",
              "    li.append(span(\n",
              "        `(${file.type || 'n/a'}) - ${file.size} bytes, ` +\n",
              "        `last modified: ${\n",
              "            file.lastModifiedDate ? file.lastModifiedDate.toLocaleDateString() :\n",
              "                                    'n/a'} - `));\n",
              "    const percent = span('0% done');\n",
              "    li.appendChild(percent);\n",
              "\n",
              "    outputElement.appendChild(li);\n",
              "\n",
              "    const fileDataPromise = new Promise((resolve) => {\n",
              "      const reader = new FileReader();\n",
              "      reader.onload = (e) => {\n",
              "        resolve(e.target.result);\n",
              "      };\n",
              "      reader.readAsArrayBuffer(file);\n",
              "    });\n",
              "    // Wait for the data to be ready.\n",
              "    let fileData = yield {\n",
              "      promise: fileDataPromise,\n",
              "      response: {\n",
              "        action: 'continue',\n",
              "      }\n",
              "    };\n",
              "\n",
              "    // Use a chunked sending to avoid message size limits. See b/62115660.\n",
              "    let position = 0;\n",
              "    do {\n",
              "      const length = Math.min(fileData.byteLength - position, MAX_PAYLOAD_SIZE);\n",
              "      const chunk = new Uint8Array(fileData, position, length);\n",
              "      position += length;\n",
              "\n",
              "      const base64 = btoa(String.fromCharCode.apply(null, chunk));\n",
              "      yield {\n",
              "        response: {\n",
              "          action: 'append',\n",
              "          file: file.name,\n",
              "          data: base64,\n",
              "        },\n",
              "      };\n",
              "\n",
              "      let percentDone = fileData.byteLength === 0 ?\n",
              "          100 :\n",
              "          Math.round((position / fileData.byteLength) * 100);\n",
              "      percent.textContent = `${percentDone}% done`;\n",
              "\n",
              "    } while (position < fileData.byteLength);\n",
              "  }\n",
              "\n",
              "  // All done.\n",
              "  yield {\n",
              "    response: {\n",
              "      action: 'complete',\n",
              "    }\n",
              "  };\n",
              "}\n",
              "\n",
              "scope.google = scope.google || {};\n",
              "scope.google.colab = scope.google.colab || {};\n",
              "scope.google.colab._files = {\n",
              "  _uploadFiles,\n",
              "  _uploadFilesContinue,\n",
              "};\n",
              "})(self);\n",
              "</script> "
            ]
          },
          "metadata": {}
        }
      ]
    },
    {
      "cell_type": "markdown",
      "source": [
        "## Import dataframe as df"
      ],
      "metadata": {
        "id": "YTTxBGW-tdea"
      }
    },
    {
      "cell_type": "code",
      "source": [
        "#Read all file in the folder\n",
        "file_path = '/content/Raw_Data_Machine_Learning/'\n",
        "file_list = os.listdir(file_path)\n",
        "\n",
        "\n",
        "#Combine all files into one files\n",
        "df_append = pd.DataFrame()\n",
        "for file in file_list:\n",
        "  file_df_temp = pd.read_csv(f'{file_path}{file}')\n",
        "  df_append = df_append.append(file_df_temp, ignore_index=True)\n",
        "\n",
        "df = df_append "
      ],
      "metadata": {
        "colab": {
          "base_uri": "https://localhost:8080/",
          "height": 873
        },
        "id": "lO_8ctR6tha6",
        "outputId": "aedbeafa-6332-4a71-e96b-098440999836"
      },
      "execution_count": null,
      "outputs": [
        {
          "output_type": "stream",
          "name": "stderr",
          "text": [
            "/usr/local/lib/python3.7/dist-packages/IPython/core/interactiveshell.py:3326: DtypeWarning: Columns (11) have mixed types.Specify dtype option on import or set low_memory=False.\n",
            "  exec(code_obj, self.user_global_ns, self.user_ns)\n"
          ]
        },
        {
          "output_type": "execute_result",
          "data": {
            "text/plain": [
              "         Unnamed: 0           SHIPMENT ID             CUSTOMER  DISTANCE  \\\n",
              "0                 0     EXEL.B21109E01579  7931282203445289709    598.37   \n",
              "1                 1     EXEL.B21109E01585  7931282203445289709   1076.40   \n",
              "2                 2     EXEL.B21109E01587  7931282203445289709   2137.40   \n",
              "3                 3     EXEL.B21109E01587  7931282203445289709   2137.40   \n",
              "4                 4     EXEL.B21109E01598  7931282203445289709   2137.40   \n",
              "...             ...                   ...                  ...       ...   \n",
              "9593944      106275  MTNORAM.B21293M02565  6730733317742620471     22.10   \n",
              "9593945      106276  MTNORAM.B21293M02554  6730733317742620471      0.00   \n",
              "9593946      106277  MTNORAM.B21293M02554  6730733317742620471      0.00   \n",
              "9593947      106278  MTNORAM.B21293M02554  6730733317742620471      0.00   \n",
              "9593948      106279  MTNORAM.B21293M02554  6730733317742620471      0.00   \n",
              "\n",
              "         CASES    WEIGHT      VOLUME   SOURCE LOCATION ID  \\\n",
              "0           38  30460.76  1480202.58 -5168068385082994908   \n",
              "1            3     28.26       82.48  6677661768721284933   \n",
              "2          192   4607.96   295650.00 -5168068385082994908   \n",
              "3          192   4607.96   295650.00 -5168068385082994908   \n",
              "4           37    477.04    24448.39 -5168068385082994908   \n",
              "...        ...       ...         ...                  ...   \n",
              "9593944      1      1.00        1.00  -145578701977014480   \n",
              "9593945      1      1.00        1.00  4774428971583591354   \n",
              "9593946      1      1.00        1.00  4774428971583591354   \n",
              "9593947      1      1.00        1.00  4774428971583591354   \n",
              "9593948      1      1.00        1.00  4774428971583591354   \n",
              "\n",
              "                 ORIGIN NAME   ORIGIN CITY  ... FUEL COSTS ACC. COSTS  \\\n",
              "0        2665167955922709351      FAIRBURN  ...     185.49        0.0   \n",
              "1       -5397954047813929205     WORCESTER  ...      14.01        0.0   \n",
              "2        2665167955922709351      FAIRBURN  ...     103.94        8.0   \n",
              "3        2665167955922709351      FAIRBURN  ...     103.94        8.0   \n",
              "4        2665167955922709351      FAIRBURN  ...      16.69        8.0   \n",
              "...                      ...           ...  ...        ...        ...   \n",
              "9593944  4847614557676040377   SHELBYVILLE  ...      11.20        0.0   \n",
              "9593945 -8441947025641042803  FAYETTEVILLE  ...       8.00        0.0   \n",
              "9593946 -8441947025641042803  FAYETTEVILLE  ...       8.00        0.0   \n",
              "9593947 -8441947025641042803  FAYETTEVILLE  ...       8.00        0.0   \n",
              "9593948 -8441947025641042803  FAYETTEVILLE  ...       8.00        0.0   \n",
              "\n",
              "         TOTAL ACTUAL COST           PU_APPT           DL_APPT  \\\n",
              "0                  1726.79  2021-04-23 16:04  2021-04-29 03:04   \n",
              "1                   112.01  2021-04-22 10:04  2021-04-26 14:04   \n",
              "2                   838.80  2021-04-21 17:04  2021-05-05 06:05   \n",
              "3                   838.80  2021-04-21 17:04  2021-05-05 06:05   \n",
              "4                   141.42  2021-04-21 16:04  2021-04-26 20:04   \n",
              "...                    ...               ...               ...   \n",
              "9593944             291.20  2021-10-26 13:10  2021-10-26 18:10   \n",
              "9593945             208.00  2021-10-26 13:10  2021-10-26 14:10   \n",
              "9593946             208.00  2021-10-26 13:10  2021-10-26 14:10   \n",
              "9593947             208.00  2021-10-26 13:10  2021-10-26 14:10   \n",
              "9593948             208.00  2021-10-26 13:10  2021-10-26 14:10   \n",
              "\n",
              "             PU_ARRIVAL (X3)     PU_DEPARTED (AF)      DL_ARRIVAL (X1)  \\\n",
              "0        04/23/2021 12:00:00  04/28/2021 08:00:00             NO EVENT   \n",
              "1        04/22/2021 06:11:00  04/22/2021 06:23:00  04/26/2021 10:03:00   \n",
              "2        04/21/2021 13:11:00  04/21/2021 13:37:00             NO EVENT   \n",
              "3        04/21/2021 13:11:00  04/21/2021 13:37:00             NO EVENT   \n",
              "4        04/21/2021 12:59:00  04/21/2021 13:11:00             NO EVENT   \n",
              "...                      ...                  ...                  ...   \n",
              "9593944             NO EVENT             NO EVENT             NO EVENT   \n",
              "9593945             NO EVENT             NO EVENT             NO EVENT   \n",
              "9593946             NO EVENT             NO EVENT             NO EVENT   \n",
              "9593947             NO EVENT             NO EVENT             NO EVENT   \n",
              "9593948             NO EVENT             NO EVENT             NO EVENT   \n",
              "\n",
              "            DL_DEPARTED (D1)            Insert Date  \n",
              "0                   NO EVENT  2021-04-19 14:35:04.0  \n",
              "1        04/26/2021 10:31:00  2021-04-19 14:36:00.0  \n",
              "2                   NO EVENT  2021-04-19 14:36:18.0  \n",
              "3                   NO EVENT  2021-04-19 14:36:18.0  \n",
              "4                   NO EVENT  2021-04-19 14:38:50.0  \n",
              "...                      ...                    ...  \n",
              "9593944             NO EVENT  2021-10-20 21:45:29.0  \n",
              "9593945             NO EVENT  2021-10-20 21:41:13.0  \n",
              "9593946             NO EVENT  2021-10-20 21:41:13.0  \n",
              "9593947             NO EVENT  2021-10-20 21:41:13.0  \n",
              "9593948             NO EVENT  2021-10-20 21:41:13.0  \n",
              "\n",
              "[9593949 rows x 31 columns]"
            ],
            "text/html": [
              "\n",
              "  <div id=\"df-6c3b0bcb-769e-4d75-9f2e-49d233f8bebe\">\n",
              "    <div class=\"colab-df-container\">\n",
              "      <div>\n",
              "<style scoped>\n",
              "    .dataframe tbody tr th:only-of-type {\n",
              "        vertical-align: middle;\n",
              "    }\n",
              "\n",
              "    .dataframe tbody tr th {\n",
              "        vertical-align: top;\n",
              "    }\n",
              "\n",
              "    .dataframe thead th {\n",
              "        text-align: right;\n",
              "    }\n",
              "</style>\n",
              "<table border=\"1\" class=\"dataframe\">\n",
              "  <thead>\n",
              "    <tr style=\"text-align: right;\">\n",
              "      <th></th>\n",
              "      <th>Unnamed: 0</th>\n",
              "      <th>SHIPMENT ID</th>\n",
              "      <th>CUSTOMER</th>\n",
              "      <th>DISTANCE</th>\n",
              "      <th>CASES</th>\n",
              "      <th>WEIGHT</th>\n",
              "      <th>VOLUME</th>\n",
              "      <th>SOURCE LOCATION ID</th>\n",
              "      <th>ORIGIN NAME</th>\n",
              "      <th>ORIGIN CITY</th>\n",
              "      <th>...</th>\n",
              "      <th>FUEL COSTS</th>\n",
              "      <th>ACC. COSTS</th>\n",
              "      <th>TOTAL ACTUAL COST</th>\n",
              "      <th>PU_APPT</th>\n",
              "      <th>DL_APPT</th>\n",
              "      <th>PU_ARRIVAL (X3)</th>\n",
              "      <th>PU_DEPARTED (AF)</th>\n",
              "      <th>DL_ARRIVAL (X1)</th>\n",
              "      <th>DL_DEPARTED (D1)</th>\n",
              "      <th>Insert Date</th>\n",
              "    </tr>\n",
              "  </thead>\n",
              "  <tbody>\n",
              "    <tr>\n",
              "      <th>0</th>\n",
              "      <td>0</td>\n",
              "      <td>EXEL.B21109E01579</td>\n",
              "      <td>7931282203445289709</td>\n",
              "      <td>598.37</td>\n",
              "      <td>38</td>\n",
              "      <td>30460.76</td>\n",
              "      <td>1480202.58</td>\n",
              "      <td>-5168068385082994908</td>\n",
              "      <td>2665167955922709351</td>\n",
              "      <td>FAIRBURN</td>\n",
              "      <td>...</td>\n",
              "      <td>185.49</td>\n",
              "      <td>0.0</td>\n",
              "      <td>1726.79</td>\n",
              "      <td>2021-04-23 16:04</td>\n",
              "      <td>2021-04-29 03:04</td>\n",
              "      <td>04/23/2021 12:00:00</td>\n",
              "      <td>04/28/2021 08:00:00</td>\n",
              "      <td>NO EVENT</td>\n",
              "      <td>NO EVENT</td>\n",
              "      <td>2021-04-19 14:35:04.0</td>\n",
              "    </tr>\n",
              "    <tr>\n",
              "      <th>1</th>\n",
              "      <td>1</td>\n",
              "      <td>EXEL.B21109E01585</td>\n",
              "      <td>7931282203445289709</td>\n",
              "      <td>1076.40</td>\n",
              "      <td>3</td>\n",
              "      <td>28.26</td>\n",
              "      <td>82.48</td>\n",
              "      <td>6677661768721284933</td>\n",
              "      <td>-5397954047813929205</td>\n",
              "      <td>WORCESTER</td>\n",
              "      <td>...</td>\n",
              "      <td>14.01</td>\n",
              "      <td>0.0</td>\n",
              "      <td>112.01</td>\n",
              "      <td>2021-04-22 10:04</td>\n",
              "      <td>2021-04-26 14:04</td>\n",
              "      <td>04/22/2021 06:11:00</td>\n",
              "      <td>04/22/2021 06:23:00</td>\n",
              "      <td>04/26/2021 10:03:00</td>\n",
              "      <td>04/26/2021 10:31:00</td>\n",
              "      <td>2021-04-19 14:36:00.0</td>\n",
              "    </tr>\n",
              "    <tr>\n",
              "      <th>2</th>\n",
              "      <td>2</td>\n",
              "      <td>EXEL.B21109E01587</td>\n",
              "      <td>7931282203445289709</td>\n",
              "      <td>2137.40</td>\n",
              "      <td>192</td>\n",
              "      <td>4607.96</td>\n",
              "      <td>295650.00</td>\n",
              "      <td>-5168068385082994908</td>\n",
              "      <td>2665167955922709351</td>\n",
              "      <td>FAIRBURN</td>\n",
              "      <td>...</td>\n",
              "      <td>103.94</td>\n",
              "      <td>8.0</td>\n",
              "      <td>838.80</td>\n",
              "      <td>2021-04-21 17:04</td>\n",
              "      <td>2021-05-05 06:05</td>\n",
              "      <td>04/21/2021 13:11:00</td>\n",
              "      <td>04/21/2021 13:37:00</td>\n",
              "      <td>NO EVENT</td>\n",
              "      <td>NO EVENT</td>\n",
              "      <td>2021-04-19 14:36:18.0</td>\n",
              "    </tr>\n",
              "    <tr>\n",
              "      <th>3</th>\n",
              "      <td>3</td>\n",
              "      <td>EXEL.B21109E01587</td>\n",
              "      <td>7931282203445289709</td>\n",
              "      <td>2137.40</td>\n",
              "      <td>192</td>\n",
              "      <td>4607.96</td>\n",
              "      <td>295650.00</td>\n",
              "      <td>-5168068385082994908</td>\n",
              "      <td>2665167955922709351</td>\n",
              "      <td>FAIRBURN</td>\n",
              "      <td>...</td>\n",
              "      <td>103.94</td>\n",
              "      <td>8.0</td>\n",
              "      <td>838.80</td>\n",
              "      <td>2021-04-21 17:04</td>\n",
              "      <td>2021-05-05 06:05</td>\n",
              "      <td>04/21/2021 13:11:00</td>\n",
              "      <td>04/21/2021 13:37:00</td>\n",
              "      <td>NO EVENT</td>\n",
              "      <td>NO EVENT</td>\n",
              "      <td>2021-04-19 14:36:18.0</td>\n",
              "    </tr>\n",
              "    <tr>\n",
              "      <th>4</th>\n",
              "      <td>4</td>\n",
              "      <td>EXEL.B21109E01598</td>\n",
              "      <td>7931282203445289709</td>\n",
              "      <td>2137.40</td>\n",
              "      <td>37</td>\n",
              "      <td>477.04</td>\n",
              "      <td>24448.39</td>\n",
              "      <td>-5168068385082994908</td>\n",
              "      <td>2665167955922709351</td>\n",
              "      <td>FAIRBURN</td>\n",
              "      <td>...</td>\n",
              "      <td>16.69</td>\n",
              "      <td>8.0</td>\n",
              "      <td>141.42</td>\n",
              "      <td>2021-04-21 16:04</td>\n",
              "      <td>2021-04-26 20:04</td>\n",
              "      <td>04/21/2021 12:59:00</td>\n",
              "      <td>04/21/2021 13:11:00</td>\n",
              "      <td>NO EVENT</td>\n",
              "      <td>NO EVENT</td>\n",
              "      <td>2021-04-19 14:38:50.0</td>\n",
              "    </tr>\n",
              "    <tr>\n",
              "      <th>...</th>\n",
              "      <td>...</td>\n",
              "      <td>...</td>\n",
              "      <td>...</td>\n",
              "      <td>...</td>\n",
              "      <td>...</td>\n",
              "      <td>...</td>\n",
              "      <td>...</td>\n",
              "      <td>...</td>\n",
              "      <td>...</td>\n",
              "      <td>...</td>\n",
              "      <td>...</td>\n",
              "      <td>...</td>\n",
              "      <td>...</td>\n",
              "      <td>...</td>\n",
              "      <td>...</td>\n",
              "      <td>...</td>\n",
              "      <td>...</td>\n",
              "      <td>...</td>\n",
              "      <td>...</td>\n",
              "      <td>...</td>\n",
              "      <td>...</td>\n",
              "    </tr>\n",
              "    <tr>\n",
              "      <th>9593944</th>\n",
              "      <td>106275</td>\n",
              "      <td>MTNORAM.B21293M02565</td>\n",
              "      <td>6730733317742620471</td>\n",
              "      <td>22.10</td>\n",
              "      <td>1</td>\n",
              "      <td>1.00</td>\n",
              "      <td>1.00</td>\n",
              "      <td>-145578701977014480</td>\n",
              "      <td>4847614557676040377</td>\n",
              "      <td>SHELBYVILLE</td>\n",
              "      <td>...</td>\n",
              "      <td>11.20</td>\n",
              "      <td>0.0</td>\n",
              "      <td>291.20</td>\n",
              "      <td>2021-10-26 13:10</td>\n",
              "      <td>2021-10-26 18:10</td>\n",
              "      <td>NO EVENT</td>\n",
              "      <td>NO EVENT</td>\n",
              "      <td>NO EVENT</td>\n",
              "      <td>NO EVENT</td>\n",
              "      <td>2021-10-20 21:45:29.0</td>\n",
              "    </tr>\n",
              "    <tr>\n",
              "      <th>9593945</th>\n",
              "      <td>106276</td>\n",
              "      <td>MTNORAM.B21293M02554</td>\n",
              "      <td>6730733317742620471</td>\n",
              "      <td>0.00</td>\n",
              "      <td>1</td>\n",
              "      <td>1.00</td>\n",
              "      <td>1.00</td>\n",
              "      <td>4774428971583591354</td>\n",
              "      <td>-8441947025641042803</td>\n",
              "      <td>FAYETTEVILLE</td>\n",
              "      <td>...</td>\n",
              "      <td>8.00</td>\n",
              "      <td>0.0</td>\n",
              "      <td>208.00</td>\n",
              "      <td>2021-10-26 13:10</td>\n",
              "      <td>2021-10-26 14:10</td>\n",
              "      <td>NO EVENT</td>\n",
              "      <td>NO EVENT</td>\n",
              "      <td>NO EVENT</td>\n",
              "      <td>NO EVENT</td>\n",
              "      <td>2021-10-20 21:41:13.0</td>\n",
              "    </tr>\n",
              "    <tr>\n",
              "      <th>9593946</th>\n",
              "      <td>106277</td>\n",
              "      <td>MTNORAM.B21293M02554</td>\n",
              "      <td>6730733317742620471</td>\n",
              "      <td>0.00</td>\n",
              "      <td>1</td>\n",
              "      <td>1.00</td>\n",
              "      <td>1.00</td>\n",
              "      <td>4774428971583591354</td>\n",
              "      <td>-8441947025641042803</td>\n",
              "      <td>FAYETTEVILLE</td>\n",
              "      <td>...</td>\n",
              "      <td>8.00</td>\n",
              "      <td>0.0</td>\n",
              "      <td>208.00</td>\n",
              "      <td>2021-10-26 13:10</td>\n",
              "      <td>2021-10-26 14:10</td>\n",
              "      <td>NO EVENT</td>\n",
              "      <td>NO EVENT</td>\n",
              "      <td>NO EVENT</td>\n",
              "      <td>NO EVENT</td>\n",
              "      <td>2021-10-20 21:41:13.0</td>\n",
              "    </tr>\n",
              "    <tr>\n",
              "      <th>9593947</th>\n",
              "      <td>106278</td>\n",
              "      <td>MTNORAM.B21293M02554</td>\n",
              "      <td>6730733317742620471</td>\n",
              "      <td>0.00</td>\n",
              "      <td>1</td>\n",
              "      <td>1.00</td>\n",
              "      <td>1.00</td>\n",
              "      <td>4774428971583591354</td>\n",
              "      <td>-8441947025641042803</td>\n",
              "      <td>FAYETTEVILLE</td>\n",
              "      <td>...</td>\n",
              "      <td>8.00</td>\n",
              "      <td>0.0</td>\n",
              "      <td>208.00</td>\n",
              "      <td>2021-10-26 13:10</td>\n",
              "      <td>2021-10-26 14:10</td>\n",
              "      <td>NO EVENT</td>\n",
              "      <td>NO EVENT</td>\n",
              "      <td>NO EVENT</td>\n",
              "      <td>NO EVENT</td>\n",
              "      <td>2021-10-20 21:41:13.0</td>\n",
              "    </tr>\n",
              "    <tr>\n",
              "      <th>9593948</th>\n",
              "      <td>106279</td>\n",
              "      <td>MTNORAM.B21293M02554</td>\n",
              "      <td>6730733317742620471</td>\n",
              "      <td>0.00</td>\n",
              "      <td>1</td>\n",
              "      <td>1.00</td>\n",
              "      <td>1.00</td>\n",
              "      <td>4774428971583591354</td>\n",
              "      <td>-8441947025641042803</td>\n",
              "      <td>FAYETTEVILLE</td>\n",
              "      <td>...</td>\n",
              "      <td>8.00</td>\n",
              "      <td>0.0</td>\n",
              "      <td>208.00</td>\n",
              "      <td>2021-10-26 13:10</td>\n",
              "      <td>2021-10-26 14:10</td>\n",
              "      <td>NO EVENT</td>\n",
              "      <td>NO EVENT</td>\n",
              "      <td>NO EVENT</td>\n",
              "      <td>NO EVENT</td>\n",
              "      <td>2021-10-20 21:41:13.0</td>\n",
              "    </tr>\n",
              "  </tbody>\n",
              "</table>\n",
              "<p>9593949 rows × 31 columns</p>\n",
              "</div>\n",
              "      <button class=\"colab-df-convert\" onclick=\"convertToInteractive('df-6c3b0bcb-769e-4d75-9f2e-49d233f8bebe')\"\n",
              "              title=\"Convert this dataframe to an interactive table.\"\n",
              "              style=\"display:none;\">\n",
              "        \n",
              "  <svg xmlns=\"http://www.w3.org/2000/svg\" height=\"24px\"viewBox=\"0 0 24 24\"\n",
              "       width=\"24px\">\n",
              "    <path d=\"M0 0h24v24H0V0z\" fill=\"none\"/>\n",
              "    <path d=\"M18.56 5.44l.94 2.06.94-2.06 2.06-.94-2.06-.94-.94-2.06-.94 2.06-2.06.94zm-11 1L8.5 8.5l.94-2.06 2.06-.94-2.06-.94L8.5 2.5l-.94 2.06-2.06.94zm10 10l.94 2.06.94-2.06 2.06-.94-2.06-.94-.94-2.06-.94 2.06-2.06.94z\"/><path d=\"M17.41 7.96l-1.37-1.37c-.4-.4-.92-.59-1.43-.59-.52 0-1.04.2-1.43.59L10.3 9.45l-7.72 7.72c-.78.78-.78 2.05 0 2.83L4 21.41c.39.39.9.59 1.41.59.51 0 1.02-.2 1.41-.59l7.78-7.78 2.81-2.81c.8-.78.8-2.07 0-2.86zM5.41 20L4 18.59l7.72-7.72 1.47 1.35L5.41 20z\"/>\n",
              "  </svg>\n",
              "      </button>\n",
              "      \n",
              "  <style>\n",
              "    .colab-df-container {\n",
              "      display:flex;\n",
              "      flex-wrap:wrap;\n",
              "      gap: 12px;\n",
              "    }\n",
              "\n",
              "    .colab-df-convert {\n",
              "      background-color: #E8F0FE;\n",
              "      border: none;\n",
              "      border-radius: 50%;\n",
              "      cursor: pointer;\n",
              "      display: none;\n",
              "      fill: #1967D2;\n",
              "      height: 32px;\n",
              "      padding: 0 0 0 0;\n",
              "      width: 32px;\n",
              "    }\n",
              "\n",
              "    .colab-df-convert:hover {\n",
              "      background-color: #E2EBFA;\n",
              "      box-shadow: 0px 1px 2px rgba(60, 64, 67, 0.3), 0px 1px 3px 1px rgba(60, 64, 67, 0.15);\n",
              "      fill: #174EA6;\n",
              "    }\n",
              "\n",
              "    [theme=dark] .colab-df-convert {\n",
              "      background-color: #3B4455;\n",
              "      fill: #D2E3FC;\n",
              "    }\n",
              "\n",
              "    [theme=dark] .colab-df-convert:hover {\n",
              "      background-color: #434B5C;\n",
              "      box-shadow: 0px 1px 3px 1px rgba(0, 0, 0, 0.15);\n",
              "      filter: drop-shadow(0px 1px 2px rgba(0, 0, 0, 0.3));\n",
              "      fill: #FFFFFF;\n",
              "    }\n",
              "  </style>\n",
              "\n",
              "      <script>\n",
              "        const buttonEl =\n",
              "          document.querySelector('#df-6c3b0bcb-769e-4d75-9f2e-49d233f8bebe button.colab-df-convert');\n",
              "        buttonEl.style.display =\n",
              "          google.colab.kernel.accessAllowed ? 'block' : 'none';\n",
              "\n",
              "        async function convertToInteractive(key) {\n",
              "          const element = document.querySelector('#df-6c3b0bcb-769e-4d75-9f2e-49d233f8bebe');\n",
              "          const dataTable =\n",
              "            await google.colab.kernel.invokeFunction('convertToInteractive',\n",
              "                                                     [key], {});\n",
              "          if (!dataTable) return;\n",
              "\n",
              "          const docLinkHtml = 'Like what you see? Visit the ' +\n",
              "            '<a target=\"_blank\" href=https://colab.research.google.com/notebooks/data_table.ipynb>data table notebook</a>'\n",
              "            + ' to learn more about interactive tables.';\n",
              "          element.innerHTML = '';\n",
              "          dataTable['output_type'] = 'display_data';\n",
              "          await google.colab.output.renderOutput(dataTable, element);\n",
              "          const docLink = document.createElement('div');\n",
              "          docLink.innerHTML = docLinkHtml;\n",
              "          element.appendChild(docLink);\n",
              "        }\n",
              "      </script>\n",
              "    </div>\n",
              "  </div>\n",
              "  "
            ]
          },
          "metadata": {},
          "execution_count": 36
        }
      ]
    },
    {
      "cell_type": "markdown",
      "source": [
        "## Show the head of the data"
      ],
      "metadata": {
        "id": "NxASv7zU7Mes"
      }
    },
    {
      "cell_type": "code",
      "source": [
        "df.head()"
      ],
      "metadata": {
        "colab": {
          "base_uri": "https://localhost:8080/",
          "height": 492
        },
        "id": "s_qzgvX-7L5x",
        "outputId": "0886ab7b-1fc1-41a4-e169-52f697d5d668"
      },
      "execution_count": null,
      "outputs": [
        {
          "output_type": "execute_result",
          "data": {
            "text/plain": [
              "   Unnamed: 0        SHIPMENT ID             CUSTOMER  DISTANCE  CASES  \\\n",
              "0           0  EXEL.B21109E01579  7931282203445289709    598.37     38   \n",
              "1           1  EXEL.B21109E01585  7931282203445289709   1076.40      3   \n",
              "2           2  EXEL.B21109E01587  7931282203445289709   2137.40    192   \n",
              "3           3  EXEL.B21109E01587  7931282203445289709   2137.40    192   \n",
              "4           4  EXEL.B21109E01598  7931282203445289709   2137.40     37   \n",
              "\n",
              "     WEIGHT      VOLUME   SOURCE LOCATION ID          ORIGIN NAME ORIGIN CITY  \\\n",
              "0  30460.76  1480202.58 -5168068385082994908  2665167955922709351    FAIRBURN   \n",
              "1     28.26       82.48  6677661768721284933 -5397954047813929205   WORCESTER   \n",
              "2   4607.96   295650.00 -5168068385082994908  2665167955922709351    FAIRBURN   \n",
              "3   4607.96   295650.00 -5168068385082994908  2665167955922709351    FAIRBURN   \n",
              "4    477.04    24448.39 -5168068385082994908  2665167955922709351    FAIRBURN   \n",
              "\n",
              "   ... FUEL COSTS ACC. COSTS  TOTAL ACTUAL COST           PU_APPT  \\\n",
              "0  ...     185.49        0.0            1726.79  2021-04-23 16:04   \n",
              "1  ...      14.01        0.0             112.01  2021-04-22 10:04   \n",
              "2  ...     103.94        8.0             838.80  2021-04-21 17:04   \n",
              "3  ...     103.94        8.0             838.80  2021-04-21 17:04   \n",
              "4  ...      16.69        8.0             141.42  2021-04-21 16:04   \n",
              "\n",
              "            DL_APPT      PU_ARRIVAL (X3)     PU_DEPARTED (AF)  \\\n",
              "0  2021-04-29 03:04  04/23/2021 12:00:00  04/28/2021 08:00:00   \n",
              "1  2021-04-26 14:04  04/22/2021 06:11:00  04/22/2021 06:23:00   \n",
              "2  2021-05-05 06:05  04/21/2021 13:11:00  04/21/2021 13:37:00   \n",
              "3  2021-05-05 06:05  04/21/2021 13:11:00  04/21/2021 13:37:00   \n",
              "4  2021-04-26 20:04  04/21/2021 12:59:00  04/21/2021 13:11:00   \n",
              "\n",
              "       DL_ARRIVAL (X1)     DL_DEPARTED (D1)            Insert Date  \n",
              "0             NO EVENT             NO EVENT  2021-04-19 14:35:04.0  \n",
              "1  04/26/2021 10:03:00  04/26/2021 10:31:00  2021-04-19 14:36:00.0  \n",
              "2             NO EVENT             NO EVENT  2021-04-19 14:36:18.0  \n",
              "3             NO EVENT             NO EVENT  2021-04-19 14:36:18.0  \n",
              "4             NO EVENT             NO EVENT  2021-04-19 14:38:50.0  \n",
              "\n",
              "[5 rows x 31 columns]"
            ],
            "text/html": [
              "\n",
              "  <div id=\"df-6000dbc2-4a23-49ed-accd-3ecce93c16c9\">\n",
              "    <div class=\"colab-df-container\">\n",
              "      <div>\n",
              "<style scoped>\n",
              "    .dataframe tbody tr th:only-of-type {\n",
              "        vertical-align: middle;\n",
              "    }\n",
              "\n",
              "    .dataframe tbody tr th {\n",
              "        vertical-align: top;\n",
              "    }\n",
              "\n",
              "    .dataframe thead th {\n",
              "        text-align: right;\n",
              "    }\n",
              "</style>\n",
              "<table border=\"1\" class=\"dataframe\">\n",
              "  <thead>\n",
              "    <tr style=\"text-align: right;\">\n",
              "      <th></th>\n",
              "      <th>Unnamed: 0</th>\n",
              "      <th>SHIPMENT ID</th>\n",
              "      <th>CUSTOMER</th>\n",
              "      <th>DISTANCE</th>\n",
              "      <th>CASES</th>\n",
              "      <th>WEIGHT</th>\n",
              "      <th>VOLUME</th>\n",
              "      <th>SOURCE LOCATION ID</th>\n",
              "      <th>ORIGIN NAME</th>\n",
              "      <th>ORIGIN CITY</th>\n",
              "      <th>...</th>\n",
              "      <th>FUEL COSTS</th>\n",
              "      <th>ACC. COSTS</th>\n",
              "      <th>TOTAL ACTUAL COST</th>\n",
              "      <th>PU_APPT</th>\n",
              "      <th>DL_APPT</th>\n",
              "      <th>PU_ARRIVAL (X3)</th>\n",
              "      <th>PU_DEPARTED (AF)</th>\n",
              "      <th>DL_ARRIVAL (X1)</th>\n",
              "      <th>DL_DEPARTED (D1)</th>\n",
              "      <th>Insert Date</th>\n",
              "    </tr>\n",
              "  </thead>\n",
              "  <tbody>\n",
              "    <tr>\n",
              "      <th>0</th>\n",
              "      <td>0</td>\n",
              "      <td>EXEL.B21109E01579</td>\n",
              "      <td>7931282203445289709</td>\n",
              "      <td>598.37</td>\n",
              "      <td>38</td>\n",
              "      <td>30460.76</td>\n",
              "      <td>1480202.58</td>\n",
              "      <td>-5168068385082994908</td>\n",
              "      <td>2665167955922709351</td>\n",
              "      <td>FAIRBURN</td>\n",
              "      <td>...</td>\n",
              "      <td>185.49</td>\n",
              "      <td>0.0</td>\n",
              "      <td>1726.79</td>\n",
              "      <td>2021-04-23 16:04</td>\n",
              "      <td>2021-04-29 03:04</td>\n",
              "      <td>04/23/2021 12:00:00</td>\n",
              "      <td>04/28/2021 08:00:00</td>\n",
              "      <td>NO EVENT</td>\n",
              "      <td>NO EVENT</td>\n",
              "      <td>2021-04-19 14:35:04.0</td>\n",
              "    </tr>\n",
              "    <tr>\n",
              "      <th>1</th>\n",
              "      <td>1</td>\n",
              "      <td>EXEL.B21109E01585</td>\n",
              "      <td>7931282203445289709</td>\n",
              "      <td>1076.40</td>\n",
              "      <td>3</td>\n",
              "      <td>28.26</td>\n",
              "      <td>82.48</td>\n",
              "      <td>6677661768721284933</td>\n",
              "      <td>-5397954047813929205</td>\n",
              "      <td>WORCESTER</td>\n",
              "      <td>...</td>\n",
              "      <td>14.01</td>\n",
              "      <td>0.0</td>\n",
              "      <td>112.01</td>\n",
              "      <td>2021-04-22 10:04</td>\n",
              "      <td>2021-04-26 14:04</td>\n",
              "      <td>04/22/2021 06:11:00</td>\n",
              "      <td>04/22/2021 06:23:00</td>\n",
              "      <td>04/26/2021 10:03:00</td>\n",
              "      <td>04/26/2021 10:31:00</td>\n",
              "      <td>2021-04-19 14:36:00.0</td>\n",
              "    </tr>\n",
              "    <tr>\n",
              "      <th>2</th>\n",
              "      <td>2</td>\n",
              "      <td>EXEL.B21109E01587</td>\n",
              "      <td>7931282203445289709</td>\n",
              "      <td>2137.40</td>\n",
              "      <td>192</td>\n",
              "      <td>4607.96</td>\n",
              "      <td>295650.00</td>\n",
              "      <td>-5168068385082994908</td>\n",
              "      <td>2665167955922709351</td>\n",
              "      <td>FAIRBURN</td>\n",
              "      <td>...</td>\n",
              "      <td>103.94</td>\n",
              "      <td>8.0</td>\n",
              "      <td>838.80</td>\n",
              "      <td>2021-04-21 17:04</td>\n",
              "      <td>2021-05-05 06:05</td>\n",
              "      <td>04/21/2021 13:11:00</td>\n",
              "      <td>04/21/2021 13:37:00</td>\n",
              "      <td>NO EVENT</td>\n",
              "      <td>NO EVENT</td>\n",
              "      <td>2021-04-19 14:36:18.0</td>\n",
              "    </tr>\n",
              "    <tr>\n",
              "      <th>3</th>\n",
              "      <td>3</td>\n",
              "      <td>EXEL.B21109E01587</td>\n",
              "      <td>7931282203445289709</td>\n",
              "      <td>2137.40</td>\n",
              "      <td>192</td>\n",
              "      <td>4607.96</td>\n",
              "      <td>295650.00</td>\n",
              "      <td>-5168068385082994908</td>\n",
              "      <td>2665167955922709351</td>\n",
              "      <td>FAIRBURN</td>\n",
              "      <td>...</td>\n",
              "      <td>103.94</td>\n",
              "      <td>8.0</td>\n",
              "      <td>838.80</td>\n",
              "      <td>2021-04-21 17:04</td>\n",
              "      <td>2021-05-05 06:05</td>\n",
              "      <td>04/21/2021 13:11:00</td>\n",
              "      <td>04/21/2021 13:37:00</td>\n",
              "      <td>NO EVENT</td>\n",
              "      <td>NO EVENT</td>\n",
              "      <td>2021-04-19 14:36:18.0</td>\n",
              "    </tr>\n",
              "    <tr>\n",
              "      <th>4</th>\n",
              "      <td>4</td>\n",
              "      <td>EXEL.B21109E01598</td>\n",
              "      <td>7931282203445289709</td>\n",
              "      <td>2137.40</td>\n",
              "      <td>37</td>\n",
              "      <td>477.04</td>\n",
              "      <td>24448.39</td>\n",
              "      <td>-5168068385082994908</td>\n",
              "      <td>2665167955922709351</td>\n",
              "      <td>FAIRBURN</td>\n",
              "      <td>...</td>\n",
              "      <td>16.69</td>\n",
              "      <td>8.0</td>\n",
              "      <td>141.42</td>\n",
              "      <td>2021-04-21 16:04</td>\n",
              "      <td>2021-04-26 20:04</td>\n",
              "      <td>04/21/2021 12:59:00</td>\n",
              "      <td>04/21/2021 13:11:00</td>\n",
              "      <td>NO EVENT</td>\n",
              "      <td>NO EVENT</td>\n",
              "      <td>2021-04-19 14:38:50.0</td>\n",
              "    </tr>\n",
              "  </tbody>\n",
              "</table>\n",
              "<p>5 rows × 31 columns</p>\n",
              "</div>\n",
              "      <button class=\"colab-df-convert\" onclick=\"convertToInteractive('df-6000dbc2-4a23-49ed-accd-3ecce93c16c9')\"\n",
              "              title=\"Convert this dataframe to an interactive table.\"\n",
              "              style=\"display:none;\">\n",
              "        \n",
              "  <svg xmlns=\"http://www.w3.org/2000/svg\" height=\"24px\"viewBox=\"0 0 24 24\"\n",
              "       width=\"24px\">\n",
              "    <path d=\"M0 0h24v24H0V0z\" fill=\"none\"/>\n",
              "    <path d=\"M18.56 5.44l.94 2.06.94-2.06 2.06-.94-2.06-.94-.94-2.06-.94 2.06-2.06.94zm-11 1L8.5 8.5l.94-2.06 2.06-.94-2.06-.94L8.5 2.5l-.94 2.06-2.06.94zm10 10l.94 2.06.94-2.06 2.06-.94-2.06-.94-.94-2.06-.94 2.06-2.06.94z\"/><path d=\"M17.41 7.96l-1.37-1.37c-.4-.4-.92-.59-1.43-.59-.52 0-1.04.2-1.43.59L10.3 9.45l-7.72 7.72c-.78.78-.78 2.05 0 2.83L4 21.41c.39.39.9.59 1.41.59.51 0 1.02-.2 1.41-.59l7.78-7.78 2.81-2.81c.8-.78.8-2.07 0-2.86zM5.41 20L4 18.59l7.72-7.72 1.47 1.35L5.41 20z\"/>\n",
              "  </svg>\n",
              "      </button>\n",
              "      \n",
              "  <style>\n",
              "    .colab-df-container {\n",
              "      display:flex;\n",
              "      flex-wrap:wrap;\n",
              "      gap: 12px;\n",
              "    }\n",
              "\n",
              "    .colab-df-convert {\n",
              "      background-color: #E8F0FE;\n",
              "      border: none;\n",
              "      border-radius: 50%;\n",
              "      cursor: pointer;\n",
              "      display: none;\n",
              "      fill: #1967D2;\n",
              "      height: 32px;\n",
              "      padding: 0 0 0 0;\n",
              "      width: 32px;\n",
              "    }\n",
              "\n",
              "    .colab-df-convert:hover {\n",
              "      background-color: #E2EBFA;\n",
              "      box-shadow: 0px 1px 2px rgba(60, 64, 67, 0.3), 0px 1px 3px 1px rgba(60, 64, 67, 0.15);\n",
              "      fill: #174EA6;\n",
              "    }\n",
              "\n",
              "    [theme=dark] .colab-df-convert {\n",
              "      background-color: #3B4455;\n",
              "      fill: #D2E3FC;\n",
              "    }\n",
              "\n",
              "    [theme=dark] .colab-df-convert:hover {\n",
              "      background-color: #434B5C;\n",
              "      box-shadow: 0px 1px 3px 1px rgba(0, 0, 0, 0.15);\n",
              "      filter: drop-shadow(0px 1px 2px rgba(0, 0, 0, 0.3));\n",
              "      fill: #FFFFFF;\n",
              "    }\n",
              "  </style>\n",
              "\n",
              "      <script>\n",
              "        const buttonEl =\n",
              "          document.querySelector('#df-6000dbc2-4a23-49ed-accd-3ecce93c16c9 button.colab-df-convert');\n",
              "        buttonEl.style.display =\n",
              "          google.colab.kernel.accessAllowed ? 'block' : 'none';\n",
              "\n",
              "        async function convertToInteractive(key) {\n",
              "          const element = document.querySelector('#df-6000dbc2-4a23-49ed-accd-3ecce93c16c9');\n",
              "          const dataTable =\n",
              "            await google.colab.kernel.invokeFunction('convertToInteractive',\n",
              "                                                     [key], {});\n",
              "          if (!dataTable) return;\n",
              "\n",
              "          const docLinkHtml = 'Like what you see? Visit the ' +\n",
              "            '<a target=\"_blank\" href=https://colab.research.google.com/notebooks/data_table.ipynb>data table notebook</a>'\n",
              "            + ' to learn more about interactive tables.';\n",
              "          element.innerHTML = '';\n",
              "          dataTable['output_type'] = 'display_data';\n",
              "          await google.colab.output.renderOutput(dataTable, element);\n",
              "          const docLink = document.createElement('div');\n",
              "          docLink.innerHTML = docLinkHtml;\n",
              "          element.appendChild(docLink);\n",
              "        }\n",
              "      </script>\n",
              "    </div>\n",
              "  </div>\n",
              "  "
            ]
          },
          "metadata": {},
          "execution_count": 37
        }
      ]
    },
    {
      "cell_type": "code",
      "source": [
        "# Check the dataframe shape\n",
        "df.shape"
      ],
      "metadata": {
        "colab": {
          "base_uri": "https://localhost:8080/"
        },
        "id": "wILbFaLq7StA",
        "outputId": "233f7332-926f-4b4c-e336-9e1ec6ffc522"
      },
      "execution_count": null,
      "outputs": [
        {
          "output_type": "execute_result",
          "data": {
            "text/plain": [
              "(9593949, 31)"
            ]
          },
          "metadata": {},
          "execution_count": 39
        }
      ]
    },
    {
      "cell_type": "markdown",
      "source": [
        "We will have 9593949 avaliable data and 31 attributes."
      ],
      "metadata": {
        "id": "a7_kXk-87aVM"
      }
    },
    {
      "cell_type": "code",
      "source": [
        "# Explor Columnn Name\n",
        "df.columns"
      ],
      "metadata": {
        "colab": {
          "base_uri": "https://localhost:8080/"
        },
        "id": "6HOmUCzy7ZFN",
        "outputId": "22bb7fbc-5a39-4f15-e47c-95308e63b776"
      },
      "execution_count": null,
      "outputs": [
        {
          "output_type": "execute_result",
          "data": {
            "text/plain": [
              "Index(['Unnamed: 0', 'SHIPMENT ID', 'CUSTOMER', 'DISTANCE', 'CASES', 'WEIGHT',\n",
              "       'VOLUME', 'SOURCE LOCATION ID', 'ORIGIN NAME', 'ORIGIN CITY',\n",
              "       'ORIGIN STATE', 'ORIGIN ZIP', 'DEST LOCATION ID', 'CONSIGNEE NAME',\n",
              "       'DEST CITY', 'DEST STATE', 'DEST ZIP', 'ACTUAL CARRIER', 'ACTUAL MODE',\n",
              "       'ACTUAL EQUIP', 'LINEHAUL COSTS', 'FUEL COSTS', 'ACC. COSTS',\n",
              "       'TOTAL ACTUAL COST', 'PU_APPT', 'DL_APPT', 'PU_ARRIVAL (X3)',\n",
              "       'PU_DEPARTED (AF)', 'DL_ARRIVAL (X1)', 'DL_DEPARTED (D1)',\n",
              "       'Insert Date'],\n",
              "      dtype='object')"
            ]
          },
          "metadata": {},
          "execution_count": 41
        }
      ]
    },
    {
      "cell_type": "markdown",
      "source": [
        "## Use descirbe to check each colomns"
      ],
      "metadata": {
        "id": "lag5TpUlFchl"
      }
    },
    {
      "cell_type": "code",
      "source": [
        "print(df.columns[1])\n",
        "print(df[df.columns[1]].describe())\n",
        "df[df.columns[1]].unique()"
      ],
      "metadata": {
        "colab": {
          "base_uri": "https://localhost:8080/"
        },
        "id": "WxAKWBnFHGHV",
        "outputId": "62a1382c-9e4b-4234-d8b8-5b74ac6c8e49"
      },
      "execution_count": null,
      "outputs": [
        {
          "output_type": "stream",
          "name": "stdout",
          "text": [
            "SHIPMENT ID\n",
            "count               9593949\n",
            "unique              6215588\n",
            "top       EXEL.B20013E05264\n",
            "freq                    416\n",
            "Name: SHIPMENT ID, dtype: object\n"
          ]
        },
        {
          "output_type": "execute_result",
          "data": {
            "text/plain": [
              "array(['EXEL.B21109E01579', 'EXEL.B21109E01585', 'EXEL.B21109E01587', ...,\n",
              "       'MTNORAM.B21260M02561', 'MTNORAM.B21293M02565',\n",
              "       'MTNORAM.B21293M02554'], dtype=object)"
            ]
          },
          "metadata": {},
          "execution_count": 51
        }
      ]
    },
    {
      "cell_type": "code",
      "source": [
        "print(df.columns[2])\n",
        "print(df[df.columns[2]].describe())\n",
        "df[df.columns[2]].unique()"
      ],
      "metadata": {
        "colab": {
          "base_uri": "https://localhost:8080/"
        },
        "id": "jqmURHtHE0vB",
        "outputId": "30ad6574-d3ae-44e8-fa7d-e309022c0c1d"
      },
      "execution_count": null,
      "outputs": [
        {
          "output_type": "stream",
          "name": "stdout",
          "text": [
            "CUSTOMER\n",
            "count    9.593949e+06\n",
            "mean    -2.148832e+17\n",
            "std      4.901297e+18\n",
            "min     -9.200370e+18\n",
            "25%     -3.665155e+18\n",
            "50%      8.385783e+17\n",
            "75%      4.191757e+18\n",
            "max      8.851275e+18\n",
            "Name: CUSTOMER, dtype: float64\n"
          ]
        },
        {
          "output_type": "execute_result",
          "data": {
            "text/plain": [
              "array([ 7931282203445289709, -8358465311509355165, -3665154987542956914,\n",
              "        3665738925766910068,   867406211532405296,  4191756812580544691,\n",
              "         838578263169818307, -6247082897620015166,                    0,\n",
              "        6596951253754028338,  6654920838849166547,  4658975030093546156,\n",
              "        8392937018381327041,  -813095935719371048, -7452257991572485329,\n",
              "       -4569629250648826880,  1063779951993601303, -6379206090823315922,\n",
              "        3853771975598788124, -7931931740654582701,    58007119102610273,\n",
              "        6147743172216528207, -2995043043207070585,  8242222325749600355,\n",
              "        3349972983819901886,  -865097432476160443, -1377495357862618522,\n",
              "         929596776556318203,  4096044733432907692,  -184540631604629769,\n",
              "       -2486853259962530932, -6406978759533183754, -8489056445563148089,\n",
              "       -9104467330347197426,  -445387823294337361,  6730733317742620471,\n",
              "         172293849311328526,  2864899793764999156, -6448224029061623688,\n",
              "       -2381075221362153849,  5280141912971247748,  8562633519525529046,\n",
              "       -6706037433434150834, -7966296895284432326, -9200370227839295516,\n",
              "       -4159703236313651701,  2760682473604937620, -2364165936002986038,\n",
              "          61834782926958263,  5054131576242015625,  6716898511910344266,\n",
              "       -3142926891578987841, -7440565622503768404,  1630125109347278072,\n",
              "        8851274799577402111])"
            ]
          },
          "metadata": {},
          "execution_count": 56
        }
      ]
    },
    {
      "cell_type": "code",
      "source": [
        "print(df.columns[3])\n",
        "print(df[df.columns[3]].describe())\n",
        "df[df.columns[3]].unique()"
      ],
      "metadata": {
        "colab": {
          "base_uri": "https://localhost:8080/"
        },
        "id": "LnYAUZJiHbl-",
        "outputId": "90c923f5-0ee0-4a65-c760-8669d0ec1ca4"
      },
      "execution_count": null,
      "outputs": [
        {
          "output_type": "stream",
          "name": "stdout",
          "text": [
            "DISTANCE\n",
            "count    9.593948e+06\n",
            "mean     1.228879e+04\n",
            "std      4.461865e+06\n",
            "min      0.000000e+00\n",
            "25%      6.260000e+01\n",
            "50%      4.876000e+02\n",
            "75%      9.955600e+02\n",
            "max      2.000000e+09\n",
            "Name: DISTANCE, dtype: float64\n"
          ]
        },
        {
          "output_type": "execute_result",
          "data": {
            "text/plain": [
              "array([ 598.37, 1076.4 , 2137.4 , ..., 1826.65,  688.61,  472.87])"
            ]
          },
          "metadata": {},
          "execution_count": 57
        }
      ]
    },
    {
      "cell_type": "code",
      "source": [
        "print(df.columns[4])\n",
        "print(df[df.columns[4]].describe())\n",
        "df[df.columns[4]].unique()"
      ],
      "metadata": {
        "colab": {
          "base_uri": "https://localhost:8080/"
        },
        "id": "Iy2ZGrRDHqeA",
        "outputId": "0cded52a-2bd1-4f11-bb95-b415ac978fc5"
      },
      "execution_count": null,
      "outputs": [
        {
          "output_type": "stream",
          "name": "stdout",
          "text": [
            "CASES\n",
            "count    9.593949e+06\n",
            "mean     3.060328e+02\n",
            "std      3.773776e+03\n",
            "min      0.000000e+00\n",
            "25%      0.000000e+00\n",
            "50%      2.000000e+00\n",
            "75%      1.100000e+01\n",
            "max      2.471000e+06\n",
            "Name: CASES, dtype: float64\n"
          ]
        },
        {
          "output_type": "execute_result",
          "data": {
            "text/plain": [
              "array([   38,     3,   192, ..., 25944, 76468, 10774])"
            ]
          },
          "metadata": {},
          "execution_count": 58
        }
      ]
    },
    {
      "cell_type": "code",
      "source": [
        "print(df.columns[5])\n",
        "print(df[df.columns[5]].describe())\n",
        "df[df.columns[5]].unique()"
      ],
      "metadata": {
        "colab": {
          "base_uri": "https://localhost:8080/"
        },
        "id": "kTQV7Ls_IrjV",
        "outputId": "827386b0-9d63-4212-ca4e-18a3fabd7c86"
      },
      "execution_count": null,
      "outputs": [
        {
          "output_type": "stream",
          "name": "stdout",
          "text": [
            "WEIGHT\n",
            "count    9.593949e+06\n",
            "mean     3.066586e+03\n",
            "std      2.890548e+05\n",
            "min      0.000000e+00\n",
            "25%      2.230000e+00\n",
            "50%      1.664000e+01\n",
            "75%      4.468000e+02\n",
            "max      8.722421e+08\n",
            "Name: WEIGHT, dtype: float64\n"
          ]
        },
        {
          "output_type": "execute_result",
          "data": {
            "text/plain": [
              "array([3.046076e+04, 2.826000e+01, 4.607960e+03, ..., 4.626450e+03,\n",
              "       2.798383e+04, 3.723820e+04])"
            ]
          },
          "metadata": {},
          "execution_count": 59
        }
      ]
    },
    {
      "cell_type": "code",
      "source": [
        "print(df.columns[6])\n",
        "print(df[df.columns[6]].describe())\n",
        "df[df.columns[6]].unique()"
      ],
      "metadata": {
        "colab": {
          "base_uri": "https://localhost:8080/"
        },
        "id": "rh2ZQlXYRRp4",
        "outputId": "82e645eb-b2b2-4e9c-c777-51a2735a8641"
      },
      "execution_count": null,
      "outputs": [
        {
          "output_type": "stream",
          "name": "stdout",
          "text": [
            "VOLUME\n",
            "count    9.593949e+06\n",
            "mean     1.397595e+04\n",
            "std      1.795347e+05\n",
            "min      0.000000e+00\n",
            "25%      2.400000e-01\n",
            "50%      4.658000e+01\n",
            "75%      7.673600e+02\n",
            "max      3.015666e+08\n",
            "Name: VOLUME, dtype: float64\n"
          ]
        },
        {
          "output_type": "execute_result",
          "data": {
            "text/plain": [
              "array([1.48020258e+06, 8.24800000e+01, 2.95650000e+05, ...,\n",
              "       1.25974000e+03, 2.01717000e+03, 8.94160000e+02])"
            ]
          },
          "metadata": {},
          "execution_count": 60
        }
      ]
    },
    {
      "cell_type": "code",
      "source": [
        "print(df.columns[7])\n",
        "print(df[df.columns[7]].describe())\n",
        "df[df.columns[7]].unique()"
      ],
      "metadata": {
        "colab": {
          "base_uri": "https://localhost:8080/"
        },
        "id": "-cGprnz8RUkJ",
        "outputId": "c56d76ac-5399-4688-b4f2-4965c7a6109f"
      },
      "execution_count": null,
      "outputs": [
        {
          "output_type": "stream",
          "name": "stdout",
          "text": [
            "SOURCE LOCATION ID\n",
            "count    9.593949e+06\n",
            "mean    -1.787564e+18\n",
            "std      4.819409e+18\n",
            "min     -9.223225e+18\n",
            "25%     -4.521407e+18\n",
            "50%     -3.597012e+18\n",
            "75%      1.915760e+18\n",
            "max      9.223259e+18\n",
            "Name: SOURCE LOCATION ID, dtype: float64\n"
          ]
        },
        {
          "output_type": "execute_result",
          "data": {
            "text/plain": [
              "array([-5168068385082994908,  6677661768721284933,  1100389784110909198,\n",
              "       ...,  1544435160812832214, -7284466898126520758,\n",
              "        8973657966618111992])"
            ]
          },
          "metadata": {},
          "execution_count": 61
        }
      ]
    },
    {
      "cell_type": "code",
      "source": [
        "print(df.columns[8])\n",
        "print(df[df.columns[8]].describe())\n",
        "df[df.columns[8]].unique()"
      ],
      "metadata": {
        "colab": {
          "base_uri": "https://localhost:8080/"
        },
        "id": "PmoXo-bmRese",
        "outputId": "c0e3a723-1673-4e39-be3b-c2326a642b85"
      },
      "execution_count": null,
      "outputs": [
        {
          "output_type": "stream",
          "name": "stdout",
          "text": [
            "ORIGIN NAME\n",
            "count    9.593949e+06\n",
            "mean    -7.811926e+17\n",
            "std      5.717549e+18\n",
            "min     -9.223044e+18\n",
            "25%     -6.269595e+18\n",
            "50%     -2.320357e+18\n",
            "75%      5.729649e+18\n",
            "max      9.223152e+18\n",
            "Name: ORIGIN NAME, dtype: float64\n"
          ]
        },
        {
          "output_type": "execute_result",
          "data": {
            "text/plain": [
              "array([ 2665167955922709351, -5397954047813929205, -7952887738830377556,\n",
              "       ...,   984964789215469440,  3156003568563512079,\n",
              "       -7908201072115559040])"
            ]
          },
          "metadata": {},
          "execution_count": 62
        }
      ]
    },
    {
      "cell_type": "code",
      "source": [
        "print(df.columns[9])\n",
        "print(df[df.columns[9]].describe())\n",
        "df[df.columns[9]].unique()"
      ],
      "metadata": {
        "colab": {
          "base_uri": "https://localhost:8080/"
        },
        "id": "P1RoofZdRtqn",
        "outputId": "e17514ba-82d4-489b-fa05-c216d2f6e512"
      },
      "execution_count": null,
      "outputs": [
        {
          "output_type": "stream",
          "name": "stdout",
          "text": [
            "ORIGIN CITY\n",
            "count     9593891\n",
            "unique       9555\n",
            "top       Memphis\n",
            "freq      1560405\n",
            "Name: ORIGIN CITY, dtype: object\n"
          ]
        },
        {
          "output_type": "execute_result",
          "data": {
            "text/plain": [
              "array(['FAIRBURN', 'WORCESTER', 'OVERLAND', ..., 'WEST MENLO PARK',\n",
              "       'ROCK  HILL', 'GUAYNABO'], dtype=object)"
            ]
          },
          "metadata": {},
          "execution_count": 63
        }
      ]
    },
    {
      "cell_type": "code",
      "source": [
        "print(df.columns[10])\n",
        "print(df[df.columns[10]].describe())\n",
        "df[df.columns[10]].unique()"
      ],
      "metadata": {
        "colab": {
          "base_uri": "https://localhost:8080/"
        },
        "id": "_UqoUOw0RyFK",
        "outputId": "c888e013-e29b-4416-aac2-a0d5939afc68"
      },
      "execution_count": null,
      "outputs": [
        {
          "output_type": "stream",
          "name": "stdout",
          "text": [
            "ORIGIN STATE\n",
            "count     9593623\n",
            "unique        104\n",
            "top            TN\n",
            "freq      2659459\n",
            "Name: ORIGIN STATE, dtype: object\n"
          ]
        },
        {
          "output_type": "execute_result",
          "data": {
            "text/plain": [
              "array(['GA', 'MA', 'MO', 'TX', 'IN', 'MI', 'WA', 'TN', 'CA', 'OH', 'NJ',\n",
              "       'OK', 'WI', 'PA', 'IL', 'ON', 'OR', 'NC', 'LA', 'AZ', 'NM', 'CT',\n",
              "       'FL', 'SC', 'DE', 'NY', 'ME', 'KY', 'BC', 'MN', 'MS', 'MD', 'VA',\n",
              "       'AL', 'NV', 'CO', 'KS', 'NE', 'UT', 'MT', 'IA', 'AR', 'SD', 'ND',\n",
              "       'WV', 'RI', 'ID', 'VT', 'WY', nan, 'NH', 'HI', 'DC', 'QC', 'CN',\n",
              "       'JP', 'MX', 'AT', 'GB', 'MY', 'KR', 'FR', 'MH', 'SG', 'AE', 'PQ',\n",
              "       'CH', 'MB', 'SW', 'TW', 'RO', 'KA', 'LK', 'AB', 'PO', 'NL', 'IT',\n",
              "       'ES', 'AK', 'TS', 'WN', 'PH', 'EM', 'QT', 'QU', 'GT', 'DF', 'CU',\n",
              "       'JA', 'CI', 'SL', 'AG', 'TM', 'TL', 'PU', 'SK', 'NB', 'NS', 'NT',\n",
              "       '**', 'OHIO', 'YT', 'MAINE', 'UTAH', 'PR'], dtype=object)"
            ]
          },
          "metadata": {},
          "execution_count": 64
        }
      ]
    },
    {
      "cell_type": "code",
      "source": [
        "print(df.columns[11])\n",
        "print(df[df.columns[11]].describe())\n",
        "df[df.columns[11]].unique()"
      ],
      "metadata": {
        "colab": {
          "base_uri": "https://localhost:8080/"
        },
        "id": "cQmZY6zgR6Cg",
        "outputId": "38e782e8-e79d-44de-87bc-d5fab62b1440"
      },
      "execution_count": null,
      "outputs": [
        {
          "output_type": "stream",
          "name": "stdout",
          "text": [
            "ORIGIN ZIP\n",
            "count     9593901\n",
            "unique      30332\n",
            "top         38134\n",
            "freq      1476195\n",
            "Name: ORIGIN ZIP, dtype: object\n"
          ]
        },
        {
          "output_type": "execute_result",
          "data": {
            "text/plain": [
              "array(['30213', '01607', '63114-5765', ..., '00965', '11717-1031',\n",
              "       '68138'], dtype=object)"
            ]
          },
          "metadata": {},
          "execution_count": 65
        }
      ]
    },
    {
      "cell_type": "code",
      "source": [
        "print(df.columns[12])\n",
        "print(df[df.columns[12]].describe())\n",
        "df[df.columns[12]].unique()"
      ],
      "metadata": {
        "colab": {
          "base_uri": "https://localhost:8080/"
        },
        "id": "eQWycDpfSDH_",
        "outputId": "aeba7d5f-cfd1-49d5-aed1-9246dba96cb6"
      },
      "execution_count": null,
      "outputs": [
        {
          "output_type": "stream",
          "name": "stdout",
          "text": [
            "DEST LOCATION ID\n",
            "count    9.593949e+06\n",
            "mean    -6.512055e+16\n",
            "std      5.207173e+18\n",
            "min     -9.223371e+18\n",
            "25%     -4.352950e+18\n",
            "50%     -4.689664e+16\n",
            "75%      4.295778e+18\n",
            "max      9.223369e+18\n",
            "Name: DEST LOCATION ID, dtype: float64\n"
          ]
        },
        {
          "output_type": "execute_result",
          "data": {
            "text/plain": [
              "array([ -272273051616801586, -5168068385082994908, -1431067929610151670,\n",
              "       ..., -7077934204346751229, -8342219633499654059,\n",
              "        1678028161399067476])"
            ]
          },
          "metadata": {},
          "execution_count": 66
        }
      ]
    },
    {
      "cell_type": "code",
      "source": [
        "print(df.columns[13])\n",
        "print(df[df.columns[13]].describe())\n",
        "df[df.columns[13]].unique()"
      ],
      "metadata": {
        "colab": {
          "base_uri": "https://localhost:8080/"
        },
        "id": "BrBAr47_SM3r",
        "outputId": "8866e4a1-204c-47da-a6ad-b5609aab8b2b"
      },
      "execution_count": null,
      "outputs": [
        {
          "output_type": "stream",
          "name": "stdout",
          "text": [
            "CONSIGNEE NAME\n",
            "count    9.593949e+06\n",
            "mean    -1.746143e+17\n",
            "std      5.297765e+18\n",
            "min     -9.223355e+18\n",
            "25%     -4.833694e+18\n",
            "50%     -2.224451e+17\n",
            "75%      4.537944e+18\n",
            "max      9.223361e+18\n",
            "Name: CONSIGNEE NAME, dtype: float64\n"
          ]
        },
        {
          "output_type": "execute_result",
          "data": {
            "text/plain": [
              "array([ -882153881375172960,  2665167955922709351,  3875366048091336758,\n",
              "       ..., -6901547901783801993,  3797939738092868452,\n",
              "       -4555001953984694022])"
            ]
          },
          "metadata": {},
          "execution_count": 67
        }
      ]
    },
    {
      "cell_type": "code",
      "source": [
        "print(df.columns[14])\n",
        "print(df[df.columns[14]].describe())\n",
        "df[df.columns[14]].unique()"
      ],
      "metadata": {
        "colab": {
          "base_uri": "https://localhost:8080/"
        },
        "id": "ziwKo97LSRiE",
        "outputId": "59f68f42-116b-4ba1-bfeb-a7fec9961764"
      },
      "execution_count": null,
      "outputs": [
        {
          "output_type": "stream",
          "name": "stdout",
          "text": [
            "DEST CITY\n",
            "count     9593786\n",
            "unique      21750\n",
            "top       EVERETT\n",
            "freq       495905\n",
            "Name: DEST CITY, dtype: object\n"
          ]
        },
        {
          "output_type": "execute_result",
          "data": {
            "text/plain": [
              "array(['BELLEVILLE', 'FAIRBURN', 'MIRA LOMA', ..., 'FRANKFRORD',\n",
              "       'SNOQUALMIE PASS', 'EASE SYRACUSE'], dtype=object)"
            ]
          },
          "metadata": {},
          "execution_count": 68
        }
      ]
    },
    {
      "cell_type": "code",
      "source": [
        "print(df.columns[15])\n",
        "print(df[df.columns[15]].describe())\n",
        "df[df.columns[15]].unique()"
      ],
      "metadata": {
        "colab": {
          "base_uri": "https://localhost:8080/"
        },
        "id": "hTjF_Ax7SZqd",
        "outputId": "587be3e4-4b9d-45aa-9bb6-d4b224b436b4"
      },
      "execution_count": null,
      "outputs": [
        {
          "output_type": "stream",
          "name": "stdout",
          "text": [
            "DEST STATE\n",
            "count     9591527\n",
            "unique        160\n",
            "top            WA\n",
            "freq      1116200\n",
            "Name: DEST STATE, dtype: object\n"
          ]
        },
        {
          "output_type": "execute_result",
          "data": {
            "text/plain": [
              "array(['MI', 'GA', 'CA', 'WA', 'IL', 'NV', 'NC', 'IN', 'AZ', 'TN', 'MD',\n",
              "       'FL', 'CT', 'TX', 'NY', 'KS', 'CO', 'MO', 'OH', 'NJ', 'PA', 'ID',\n",
              "       'IA', 'MS', 'KY', 'MN', 'WV', 'UT', 'RI', 'VA', 'MA', 'AL', 'WI',\n",
              "       'OK', nan, 'SC', 'OR', 'ME', 'LA', 'WY', 'AR', 'HI', 'AK', 'NE',\n",
              "       'SD', 'NM', 'VT', 'ND', 'NH', 'MT', 'PR', 'DC', 'DE', 'VI', 'GU',\n",
              "       'AS', 'ON', 'QC', 'BC', 'NS', 'AB', 'NB', '12', 'SK', 'MB', 'YT',\n",
              "       'NL', '**', 'JP', 'PQ', 'PE', '01', 'P01', 'AE', 'GB', '99', 'SP',\n",
              "       'IT', 'C', 'RM', '3', 'NT', 'BO', 'N', 'JA', 'RJ', 'SY', '100',\n",
              "       'UK', 'IO', '77041', 'AG', 'EM', 'QT', 'QU', 'MR', 'GT', 'CU',\n",
              "       '47', '11', 'MX', 'TM', 'DB', 'SL', '48', 'MP', 'BE', 'FM', 'Z2',\n",
              "       'PIN', 'PW', 'SH', 'J5', 'MG', 'RS', 'NSW', '74131', 'MADRID',\n",
              "       'TX.', 'TEXAS', 'CA \\t', '1', 'ZH', '7', 'ER', 'MY', 'KA', 'WZ',\n",
              "       '73129', 'XX', '??', 'SS', 'KL', 'MH', '28', '75', '00', 'RU',\n",
              "       '08', 'LO', '13', 'AT', '21', 'BK', 'SE', '10', '45', '06', 'HK',\n",
              "       '30', 'ES', '24', '14', '09', '03', '25', 'AU', 'US', 'AP', 'MOR',\n",
              "       'POS'], dtype=object)"
            ]
          },
          "metadata": {},
          "execution_count": 69
        }
      ]
    },
    {
      "cell_type": "code",
      "source": [
        "print(df.columns[16])\n",
        "print(df[df.columns[16]].describe())\n",
        "df[df.columns[16]].unique()"
      ],
      "metadata": {
        "colab": {
          "base_uri": "https://localhost:8080/"
        },
        "id": "mmIlkGQpSerU",
        "outputId": "96c46c88-785e-42b5-c5d1-b2d2e31b1d45"
      },
      "execution_count": null,
      "outputs": [
        {
          "output_type": "stream",
          "name": "stdout",
          "text": [
            "DEST ZIP\n",
            "count     9593605\n",
            "unique     201367\n",
            "top         98204\n",
            "freq       452555\n",
            "Name: DEST ZIP, dtype: object\n"
          ]
        },
        {
          "output_type": "execute_result",
          "data": {
            "text/plain": [
              "array(['48111', '30213', '91752', ..., 'V3R 0A1', '06095-5709', 'L5J 2Z5'],\n",
              "      dtype=object)"
            ]
          },
          "metadata": {},
          "execution_count": 70
        }
      ]
    },
    {
      "cell_type": "code",
      "source": [
        "print(df.columns[17])\n",
        "print(df[df.columns[17]].describe())\n",
        "#df[df.columns[17]].unique()"
      ],
      "metadata": {
        "colab": {
          "base_uri": "https://localhost:8080/"
        },
        "id": "gkf-ONlpShp2",
        "outputId": "bef7ecea-5f2e-43be-d872-91288ac87d0d"
      },
      "execution_count": null,
      "outputs": [
        {
          "output_type": "stream",
          "name": "stdout",
          "text": [
            "ACTUAL CARRIER\n",
            "count    9.593949e+06\n",
            "mean     1.824553e+18\n",
            "std      3.983408e+18\n",
            "min     -9.207727e+18\n",
            "25%     -1.825974e+17\n",
            "50%      3.427574e+18\n",
            "75%      4.527271e+18\n",
            "max      9.167988e+18\n",
            "Name: ACTUAL CARRIER, dtype: float64\n"
          ]
        }
      ]
    },
    {
      "cell_type": "code",
      "source": [
        "print(df.columns[18])\n",
        "print(df[df.columns[18]].describe())\n",
        "df[df.columns[18]].unique()"
      ],
      "metadata": {
        "colab": {
          "base_uri": "https://localhost:8080/"
        },
        "id": "DOFkGi2SSmNw",
        "outputId": "28c73779-36ba-4a6c-9e62-1a564da78daa"
      },
      "execution_count": null,
      "outputs": [
        {
          "output_type": "stream",
          "name": "stdout",
          "text": [
            "ACTUAL MODE\n",
            "count         9591740\n",
            "unique             31\n",
            "top       CORP.PARCEL\n",
            "freq          5002781\n",
            "Name: ACTUAL MODE, dtype: object\n"
          ]
        },
        {
          "output_type": "execute_result",
          "data": {
            "text/plain": [
              "array(['CORP.TL', 'CORP.LTL', 'CORP.PARCEL', 'CORP.AIR', 'PARCEL', 'LTL',\n",
              "       'CORP.INTERMODAL', 'CORP.UNKNOWN', 'CORP.OCEAN-LCL',\n",
              "       'CORP.AIR-CONSOL', 'CORP.AIR-DIRECT', 'CORP.OCEAN-FCL',\n",
              "       'EXEL.COURIER', 'MTNORAM.INTERMODAL', 'MTNORAM.TL', 'MTNORAM.LTL',\n",
              "       'TL', 'MTNORAM.PARCEL', 'CORP.OCEAN', 'PLNA.PARCEL', 'PLNA.LTL',\n",
              "       'EXEL.LTL', 'CORP.SPECIALIZED', 'MTNORAM.OCEAN', 'RAIL', 'PLNA.TL',\n",
              "       'CARRIER.LTL', nan, 'CORP.OTHER', 'MTNORAM.RAIL', 'UTCRIQ.TL',\n",
              "       'AIR'], dtype=object)"
            ]
          },
          "metadata": {},
          "execution_count": 77
        }
      ]
    },
    {
      "cell_type": "code",
      "source": [
        "print(df.columns[20])\n",
        "print(df[df.columns[20]].describe())"
      ],
      "metadata": {
        "colab": {
          "base_uri": "https://localhost:8080/"
        },
        "id": "-Bmho0FdSzhn",
        "outputId": "a8d63556-93f7-4689-8cf0-a4e9281ad30f"
      },
      "execution_count": null,
      "outputs": [
        {
          "output_type": "stream",
          "name": "stdout",
          "text": [
            "LINEHAUL COSTS\n",
            "count    9.593949e+06\n",
            "mean     5.800929e+02\n",
            "std      1.914286e+04\n",
            "min     -1.933960e+03\n",
            "25%      4.500000e+00\n",
            "50%      9.230000e+00\n",
            "75%      1.500000e+02\n",
            "max      1.143635e+07\n",
            "Name: LINEHAUL COSTS, dtype: float64\n"
          ]
        }
      ]
    },
    {
      "cell_type": "code",
      "source": [
        "print(df.columns[21])\n",
        "print(df[df.columns[21]].describe())"
      ],
      "metadata": {
        "colab": {
          "base_uri": "https://localhost:8080/"
        },
        "id": "wC2_eV0fS2OK",
        "outputId": "9e6059a4-baf5-416e-a1f7-5f9ad61ed159"
      },
      "execution_count": null,
      "outputs": [
        {
          "output_type": "stream",
          "name": "stdout",
          "text": [
            "FUEL COSTS\n",
            "count    9.593949e+06\n",
            "mean     2.661117e+01\n",
            "std      1.145453e+02\n",
            "min     -1.463530e+03\n",
            "25%      0.000000e+00\n",
            "50%      0.000000e+00\n",
            "75%      6.400000e-01\n",
            "max      2.886983e+04\n",
            "Name: FUEL COSTS, dtype: float64\n"
          ]
        }
      ]
    },
    {
      "cell_type": "code",
      "source": [
        "print(df.columns[22])\n",
        "print(df[df.columns[22]].describe())"
      ],
      "metadata": {
        "colab": {
          "base_uri": "https://localhost:8080/"
        },
        "id": "7ayzCxHNTD-u",
        "outputId": "451aa35c-e0cd-429e-a9ed-2779c7ac5061"
      },
      "execution_count": null,
      "outputs": [
        {
          "output_type": "stream",
          "name": "stdout",
          "text": [
            "ACC. COSTS\n",
            "count    9.593949e+06\n",
            "mean     1.120043e+01\n",
            "std      2.348755e+02\n",
            "min     -1.498850e+03\n",
            "25%      0.000000e+00\n",
            "50%      0.000000e+00\n",
            "75%      0.000000e+00\n",
            "max      1.233950e+05\n",
            "Name: ACC. COSTS, dtype: float64\n"
          ]
        }
      ]
    },
    {
      "cell_type": "code",
      "source": [
        "print(df.columns[23])\n",
        "print(df[df.columns[23]].describe())\n",
        "df[df.columns[23]].unique()"
      ],
      "metadata": {
        "colab": {
          "base_uri": "https://localhost:8080/"
        },
        "id": "azZgoRhpTI1c",
        "outputId": "e183efd5-5781-4699-e622-f7ce737a32fe"
      },
      "execution_count": null,
      "outputs": [
        {
          "output_type": "stream",
          "name": "stdout",
          "text": [
            "TOTAL ACTUAL COST\n",
            "count    9.593949e+06\n",
            "mean     6.197886e+02\n",
            "std      1.915064e+04\n",
            "min     -3.394600e+02\n",
            "25%      4.730000e+00\n",
            "50%      9.740000e+00\n",
            "75%      1.672000e+02\n",
            "max      1.143682e+07\n",
            "Name: TOTAL ACTUAL COST, dtype: float64\n"
          ]
        },
        {
          "output_type": "execute_result",
          "data": {
            "text/plain": [
              "array([1726.79,  112.01,  838.8 , ..., 2834.38, 2346.09, 2542.16])"
            ]
          },
          "metadata": {},
          "execution_count": 85
        }
      ]
    },
    {
      "cell_type": "code",
      "source": [
        "print(df.columns[24])\n",
        "print(df[df.columns[24]].describe())\n",
        "df[df.columns[24]].unique()"
      ],
      "metadata": {
        "colab": {
          "base_uri": "https://localhost:8080/"
        },
        "id": "ed4CGXAtTOJz",
        "outputId": "80d12875-1219-40ff-dc16-db67e83f479f"
      },
      "execution_count": null,
      "outputs": [
        {
          "output_type": "stream",
          "name": "stdout",
          "text": [
            "PU_APPT\n",
            "count              9593949\n",
            "unique               56977\n",
            "top       12/18/2020 22:12\n",
            "freq                 22650\n",
            "Name: PU_APPT, dtype: object\n"
          ]
        },
        {
          "output_type": "execute_result",
          "data": {
            "text/plain": [
              "array(['2021-04-23 16:04', '2021-04-22 10:04', '2021-04-21 17:04', ...,\n",
              "       '2021-10-29 05:00', '2021-11-17 15:30', '2021-10-30 05:00'],\n",
              "      dtype=object)"
            ]
          },
          "metadata": {},
          "execution_count": 86
        }
      ]
    },
    {
      "cell_type": "code",
      "source": [
        "print(df.columns[25])\n",
        "print(df[df.columns[25]].describe())\n",
        "df[df.columns[25]].unique()"
      ],
      "metadata": {
        "colab": {
          "base_uri": "https://localhost:8080/"
        },
        "id": "8wLO3Hx2Tt95",
        "outputId": "e54b01b0-e7c0-49ed-a0ba-2bd7e53fab5f"
      },
      "execution_count": null,
      "outputs": [
        {
          "output_type": "stream",
          "name": "stdout",
          "text": [
            "DL_APPT\n",
            "count             9593949\n",
            "unique              77545\n",
            "top       12/11/2020 5:12\n",
            "freq                12053\n",
            "Name: DL_APPT, dtype: object\n"
          ]
        },
        {
          "output_type": "execute_result",
          "data": {
            "text/plain": [
              "array(['2021-04-29 03:04', '2021-04-26 14:04', '2021-05-05 06:05', ...,\n",
              "       '2021-10-30 19:00', '2021-11-01 17:30', '2021-10-30 15:00'],\n",
              "      dtype=object)"
            ]
          },
          "metadata": {},
          "execution_count": 87
        }
      ]
    },
    {
      "cell_type": "code",
      "source": [
        "print(df.columns[26])\n",
        "print(df[df.columns[26]].describe())\n",
        "df[df.columns[26]].unique()"
      ],
      "metadata": {
        "colab": {
          "base_uri": "https://localhost:8080/"
        },
        "id": "ioktmDT2TxKz",
        "outputId": "c4ce24da-788e-4fde-f11e-b95be550efad"
      },
      "execution_count": null,
      "outputs": [
        {
          "output_type": "stream",
          "name": "stdout",
          "text": [
            "PU_ARRIVAL (X3)\n",
            "count      9593949\n",
            "unique     1365385\n",
            "top       NO EVENT\n",
            "freq       4717067\n",
            "Name: PU_ARRIVAL (X3), dtype: object\n"
          ]
        },
        {
          "output_type": "execute_result",
          "data": {
            "text/plain": [
              "array(['04/23/2021 12:00:00', '04/22/2021 06:11:00',\n",
              "       '04/21/2021 13:11:00', ..., '09/29/2021 08:40:35',\n",
              "       '09/21/2021 20:40:56', '10/07/2021 13:23:09'], dtype=object)"
            ]
          },
          "metadata": {},
          "execution_count": 88
        }
      ]
    },
    {
      "cell_type": "code",
      "source": [
        "print(df.columns[27])\n",
        "print(df[df.columns[27]].describe())\n",
        "df[df.columns[27]].unique()"
      ],
      "metadata": {
        "colab": {
          "base_uri": "https://localhost:8080/"
        },
        "id": "4n0KE4YlT0hb",
        "outputId": "da38f1d0-6caa-4c6f-beeb-44805d481157"
      },
      "execution_count": null,
      "outputs": [
        {
          "output_type": "stream",
          "name": "stdout",
          "text": [
            "PU_DEPARTED (AF)\n",
            "count      9593949\n",
            "unique     1242839\n",
            "top       NO EVENT\n",
            "freq       4740147\n",
            "Name: PU_DEPARTED (AF), dtype: object\n"
          ]
        },
        {
          "output_type": "execute_result",
          "data": {
            "text/plain": [
              "array(['04/28/2021 08:00:00', '04/22/2021 06:23:00',\n",
              "       '04/21/2021 13:37:00', ..., '10/28/2021 04:48:00',\n",
              "       '10/24/2021 15:31:00', '11/13/2021 09:48:00'], dtype=object)"
            ]
          },
          "metadata": {},
          "execution_count": 89
        }
      ]
    },
    {
      "cell_type": "code",
      "source": [
        "print(df.columns[28])\n",
        "print(df[df.columns[28]].describe())\n",
        "df[df.columns[28]].unique()"
      ],
      "metadata": {
        "colab": {
          "base_uri": "https://localhost:8080/"
        },
        "id": "IXJx-NPiT69V",
        "outputId": "00b294f0-5bc2-4620-ddee-f4cbdcff51dd"
      },
      "execution_count": null,
      "outputs": [
        {
          "output_type": "stream",
          "name": "stdout",
          "text": [
            "DL_ARRIVAL (X1)\n",
            "count      9593949\n",
            "unique      514941\n",
            "top       NO EVENT\n",
            "freq       7302818\n",
            "Name: DL_ARRIVAL (X1), dtype: object\n"
          ]
        },
        {
          "output_type": "execute_result",
          "data": {
            "text/plain": [
              "array(['NO EVENT', '04/26/2021 10:03:00', '04/26/2021 11:37:00', ...,\n",
              "       '10/30/2021 12:24:00', '10/28/2021 20:25:00',\n",
              "       '10/30/2021 07:30:00'], dtype=object)"
            ]
          },
          "metadata": {},
          "execution_count": 90
        }
      ]
    },
    {
      "cell_type": "code",
      "source": [
        "print(df.columns[29])\n",
        "print(df[df.columns[29]].describe())\n",
        "df[df.columns[29]].unique()"
      ],
      "metadata": {
        "colab": {
          "base_uri": "https://localhost:8080/"
        },
        "id": "Bo-3BvhaT-Xa",
        "outputId": "6f973ea4-f9a4-446a-d6f8-aab407c6adfb"
      },
      "execution_count": null,
      "outputs": [
        {
          "output_type": "stream",
          "name": "stdout",
          "text": [
            "DL_DEPARTED (D1)\n",
            "count      9593949\n",
            "unique     1284292\n",
            "top       NO EVENT\n",
            "freq       4250908\n",
            "Name: DL_DEPARTED (D1), dtype: object\n"
          ]
        },
        {
          "output_type": "execute_result",
          "data": {
            "text/plain": [
              "array(['NO EVENT', '04/26/2021 10:31:00', '04/26/2021 11:42:00', ...,\n",
              "       '11/01/2021 11:21:46', '10/29/2021 00:46:00',\n",
              "       '10/14/2021 07:51:00'], dtype=object)"
            ]
          },
          "metadata": {},
          "execution_count": 91
        }
      ]
    },
    {
      "cell_type": "code",
      "source": [
        "print(df.columns[30])\n",
        "print(df[df.columns[30]].describe())\n",
        "df[df.columns[30]].unique()"
      ],
      "metadata": {
        "colab": {
          "base_uri": "https://localhost:8080/"
        },
        "id": "EnRz9BgwUEq-",
        "outputId": "e073f60c-24ad-460e-9085-2b3b176382d8"
      },
      "execution_count": null,
      "outputs": [
        {
          "output_type": "stream",
          "name": "stdout",
          "text": [
            "Insert Date\n",
            "count     9593949\n",
            "unique    2831239\n",
            "top       09:23.0\n",
            "freq          991\n",
            "Name: Insert Date, dtype: object\n"
          ]
        },
        {
          "output_type": "execute_result",
          "data": {
            "text/plain": [
              "array(['2021-04-19 14:35:04.0', '2021-04-19 14:36:00.0',\n",
              "       '2021-04-19 14:36:18.0', ..., '2021-09-10 12:06:23.0',\n",
              "       '2021-09-10 12:00:14.0', '2021-10-20 21:45:29.0'], dtype=object)"
            ]
          },
          "metadata": {},
          "execution_count": 92
        }
      ]
    },
    {
      "cell_type": "code",
      "source": [],
      "metadata": {
        "id": "YHoXxKQtUZAX"
      },
      "execution_count": null,
      "outputs": []
    }
  ]
}