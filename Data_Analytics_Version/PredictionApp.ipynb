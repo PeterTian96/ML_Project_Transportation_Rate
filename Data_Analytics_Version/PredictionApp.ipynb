{
  "nbformat": 4,
  "nbformat_minor": 0,
  "metadata": {
    "colab": {
      "provenance": []
    },
    "kernelspec": {
      "name": "python3",
      "display_name": "Python 3"
    },
    "language_info": {
      "name": "python"
    }
  },
  "cells": [
    {
      "cell_type": "code",
      "execution_count": null,
      "metadata": {
        "id": "jiBkTzXM6ciX"
      },
      "outputs": [],
      "source": [
        "import pandas as pd\n",
        "import tkinter as tk"
      ]
    },
    {
      "cell_type": "code",
      "source": [
        "from google.colab import drive\n",
        "drive.mount('/content/drive')"
      ],
      "metadata": {
        "id": "_lQ90pCq6zMS",
        "colab": {
          "base_uri": "https://localhost:8080/"
        },
        "outputId": "fb16e673-9641-4b84-ba82-0652a9df13ef"
      },
      "execution_count": null,
      "outputs": [
        {
          "output_type": "stream",
          "name": "stdout",
          "text": [
            "Mounted at /content/drive\n"
          ]
        }
      ]
    },
    {
      "cell_type": "code",
      "source": [
        "import tkinter as tk\n",
        "from tkinter import ttk\n",
        "from tkinter.messagebox import showinfo\n",
        "\n",
        "\n",
        "class App(tk.Tk):\n",
        "  def __init__(self):\n",
        "    super().__init__()\n",
        "\n",
        "    # configure the root window\n",
        "    self.title('My Awesome App')\n",
        "    self.geometry('300x50')\n",
        "\n",
        "    # label\n",
        "    self.label = ttk.Label(self, text='Hello, Tkinter!')\n",
        "    self.label.pack()\n",
        "\n",
        "    # button\n",
        "    self.button = ttk.Button(self, text='Click Me')\n",
        "    self.button['command'] = self.button_clicked\n",
        "    self.button.pack()\n",
        "\n",
        "i  def button_clicked(self):\n",
        "    showinfo(title='Information', message='Hello, Tkinter!')\n",
        "\n",
        "if __name__ == \"__main__\":\n",
        "  app = App()\n",
        "  app.mainloop()"
      ],
      "metadata": {
        "colab": {
          "base_uri": "https://localhost:8080/",
          "height": 149
        },
        "id": "xyCxFWgw78Go",
        "outputId": "8a05c183-0b47-4352-b4b9-8f76948bb785"
      },
      "execution_count": null,
      "outputs": [
        {
          "output_type": "error",
          "ename": "SyntaxError",
          "evalue": "ignored",
          "traceback": [
            "\u001b[0;36m  File \u001b[0;32m\"<ipython-input-17-1cb96ff3e0b4>\"\u001b[0;36m, line \u001b[0;32m1\u001b[0m\n\u001b[0;31m    mport tkinter as tk\u001b[0m\n\u001b[0m                ^\u001b[0m\n\u001b[0;31mSyntaxError\u001b[0m\u001b[0;31m:\u001b[0m invalid syntax\n"
          ]
        }
      ]
    },
    {
      "cell_type": "code",
      "source": [],
      "metadata": {
        "id": "DhI-E-dy8FCM"
      },
      "execution_count": null,
      "outputs": []
    }
  ]
}